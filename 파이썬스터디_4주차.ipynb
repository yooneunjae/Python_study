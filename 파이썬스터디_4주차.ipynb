{
  "nbformat": 4,
  "nbformat_minor": 0,
  "metadata": {
    "colab": {
      "provenance": [],
      "authorship_tag": "ABX9TyN8/VsYjx0IykjuSpTYuJyk",
      "include_colab_link": true
    },
    "kernelspec": {
      "name": "python3",
      "display_name": "Python 3"
    },
    "language_info": {
      "name": "python"
    }
  },
  "cells": [
    {
      "cell_type": "markdown",
      "metadata": {
        "id": "view-in-github",
        "colab_type": "text"
      },
      "source": [
        "<a href=\"https://colab.research.google.com/github/yooneunjae/Python_study/blob/main/%ED%8C%8C%EC%9D%B4%EC%8D%AC%EC%8A%A4%ED%84%B0%EB%94%94_4%EC%A3%BC%EC%B0%A8.ipynb\" target=\"_parent\"><img src=\"https://colab.research.google.com/assets/colab-badge.svg\" alt=\"Open In Colab\"/></a>"
      ]
    },
    {
      "cell_type": "markdown",
      "source": [],
      "metadata": {
        "id": "rFyf33t3nSiM"
      }
    },
    {
      "cell_type": "markdown",
      "source": [
        "함수\n",
        "\n",
        "def 함수명():"
      ],
      "metadata": {
        "id": "OzKGYrggnUe2"
      }
    },
    {
      "cell_type": "code",
      "execution_count": 1,
      "metadata": {
        "id": "kbPjM4jPnJ8K"
      },
      "outputs": [],
      "source": [
        "def a1():\n",
        "    print('a')\n",
        "    print('b')"
      ]
    },
    {
      "cell_type": "code",
      "source": [
        "a1()"
      ],
      "metadata": {
        "colab": {
          "base_uri": "https://localhost:8080/"
        },
        "id": "E7HhqlsnnZxK",
        "outputId": "c6af55ee-c47b-43b1-e63e-03d5a09401a5"
      },
      "execution_count": 2,
      "outputs": [
        {
          "output_type": "stream",
          "name": "stdout",
          "text": [
            "a\n",
            "b\n"
          ]
        }
      ]
    },
    {
      "cell_type": "markdown",
      "source": [
        "빈 함수를 만들 경우\n",
        "\n",
        "pass를 이용하여 빈 함수 만들기"
      ],
      "metadata": {
        "id": "pmjxHQcrnbJi"
      }
    },
    {
      "cell_type": "code",
      "source": [
        "def a2():\n",
        "    pass"
      ],
      "metadata": {
        "id": "eThqfzkTndZk"
      },
      "execution_count": 3,
      "outputs": []
    },
    {
      "cell_type": "code",
      "source": [
        "a2()"
      ],
      "metadata": {
        "id": "kcYacP74nZu8"
      },
      "execution_count": 4,
      "outputs": []
    },
    {
      "cell_type": "markdown",
      "source": [
        "매개변수를 추가하여 다양하게 사용 가능"
      ],
      "metadata": {
        "id": "vh5xHGk6ng0t"
      }
    },
    {
      "cell_type": "code",
      "source": [
        "def a3(a,b):\n",
        "    print(a-b)"
      ],
      "metadata": {
        "id": "q6f75cjJnZsm"
      },
      "execution_count": 5,
      "outputs": []
    },
    {
      "cell_type": "code",
      "source": [
        "a3(5,3)"
      ],
      "metadata": {
        "colab": {
          "base_uri": "https://localhost:8080/"
        },
        "id": "AzudMB5-nZqX",
        "outputId": "284369a7-e748-407e-bb67-14ff83927a92"
      },
      "execution_count": 6,
      "outputs": [
        {
          "output_type": "stream",
          "name": "stdout",
          "text": [
            "2\n"
          ]
        }
      ]
    },
    {
      "cell_type": "code",
      "source": [
        "a3(10,20)"
      ],
      "metadata": {
        "colab": {
          "base_uri": "https://localhost:8080/"
        },
        "id": "h_vVmNTCnZoI",
        "outputId": "97abbd63-f5d5-4c73-8e40-7600773340f7"
      },
      "execution_count": 7,
      "outputs": [
        {
          "output_type": "stream",
          "name": "stdout",
          "text": [
            "-10\n"
          ]
        }
      ]
    },
    {
      "cell_type": "code",
      "source": [
        "print(a3(5,3))"
      ],
      "metadata": {
        "colab": {
          "base_uri": "https://localhost:8080/"
        },
        "id": "tYcoW_GrnZl0",
        "outputId": "dde65fa6-00b3-42ea-f0a1-eef4794ab2bc"
      },
      "execution_count": 8,
      "outputs": [
        {
          "output_type": "stream",
          "name": "stdout",
          "text": [
            "2\n",
            "None\n"
          ]
        }
      ]
    },
    {
      "cell_type": "markdown",
      "source": [
        "-return값을 지정하지 않으면 None이라는 값이 나옴\n",
        "\n",
        "-함수를 만들 때 반드시 return을 지정해줘야 함"
      ],
      "metadata": {
        "id": "P7m3EPyonqtO"
      }
    },
    {
      "cell_type": "code",
      "source": [
        "def a4(a,b):\n",
        "    return a-b"
      ],
      "metadata": {
        "id": "rn_5bGrAnZj5"
      },
      "execution_count": 11,
      "outputs": []
    },
    {
      "cell_type": "code",
      "source": [
        "a4(5,3)"
      ],
      "metadata": {
        "colab": {
          "base_uri": "https://localhost:8080/"
        },
        "id": "u0K4ZDPbnZhP",
        "outputId": "4159cd69-f90d-40ce-f6e5-aca9f0db9b9d"
      },
      "execution_count": 12,
      "outputs": [
        {
          "output_type": "execute_result",
          "data": {
            "text/plain": [
              "2"
            ]
          },
          "metadata": {},
          "execution_count": 12
        }
      ]
    },
    {
      "cell_type": "code",
      "source": [
        "print(a4(5,3))"
      ],
      "metadata": {
        "colab": {
          "base_uri": "https://localhost:8080/"
        },
        "id": "wHEFfpownZe9",
        "outputId": "19ba6bd0-730f-44b6-b0eb-eb16783a7d28"
      },
      "execution_count": 13,
      "outputs": [
        {
          "output_type": "stream",
          "name": "stdout",
          "text": [
            "2\n"
          ]
        }
      ]
    },
    {
      "cell_type": "code",
      "source": [
        "def a6(a,b):\n",
        "    c = a+b\n",
        "    d = c/2\n",
        "    return d"
      ],
      "metadata": {
        "id": "RcQ3uxbAnZcT"
      },
      "execution_count": 14,
      "outputs": []
    },
    {
      "cell_type": "code",
      "source": [
        "a6(50,80)"
      ],
      "metadata": {
        "colab": {
          "base_uri": "https://localhost:8080/"
        },
        "id": "3KTws-xhnZZp",
        "outputId": "0c8e0180-d238-4e2e-b252-178f9a324cb2"
      },
      "execution_count": 15,
      "outputs": [
        {
          "output_type": "execute_result",
          "data": {
            "text/plain": [
              "65.0"
            ]
          },
          "metadata": {},
          "execution_count": 15
        }
      ]
    },
    {
      "cell_type": "markdown",
      "source": [
        "매개변수를 특정 값으로 고정 가능"
      ],
      "metadata": {
        "id": "S7NSCRXLn4o8"
      }
    },
    {
      "cell_type": "code",
      "source": [
        "def a7(a,b,c=2):\n",
        "    ab_sum = a+b\n",
        "    d = ab_sum/c\n",
        "    return d"
      ],
      "metadata": {
        "id": "KmU8TTjqnZX3"
      },
      "execution_count": 16,
      "outputs": []
    },
    {
      "cell_type": "code",
      "source": [
        "a7(50,80)"
      ],
      "metadata": {
        "colab": {
          "base_uri": "https://localhost:8080/"
        },
        "id": "OPKVzs8LnZVF",
        "outputId": "351a88ce-0417-4351-9334-544718742e54"
      },
      "execution_count": 17,
      "outputs": [
        {
          "output_type": "execute_result",
          "data": {
            "text/plain": [
              "65.0"
            ]
          },
          "metadata": {},
          "execution_count": 17
        }
      ]
    },
    {
      "cell_type": "markdown",
      "source": [
        "리스트 내부의 문자열을 찾아주는 함수 만들기"
      ],
      "metadata": {
        "id": "7ghh4pUan8r7"
      }
    },
    {
      "cell_type": "code",
      "source": [
        "c = [1,2,3,4,5,'e']"
      ],
      "metadata": {
        "id": "V7v_ZqEinZS2"
      },
      "execution_count": 18,
      "outputs": []
    },
    {
      "cell_type": "code",
      "source": [
        "for i in c:\n",
        "    if type(i)==str:\n",
        "        print(i)"
      ],
      "metadata": {
        "colab": {
          "base_uri": "https://localhost:8080/"
        },
        "id": "lEWyRwpBnZRC",
        "outputId": "126dd5e9-d5db-4893-f207-30e084a77135"
      },
      "execution_count": 19,
      "outputs": [
        {
          "output_type": "stream",
          "name": "stdout",
          "text": [
            "e\n"
          ]
        }
      ]
    },
    {
      "cell_type": "code",
      "source": [
        "for i in c:\n",
        "    if type(i)!=int:\n",
        "        print(i)"
      ],
      "metadata": {
        "colab": {
          "base_uri": "https://localhost:8080/"
        },
        "id": "apYuxWVZnZOY",
        "outputId": "79062721-711e-469d-9742-17afa1db852d"
      },
      "execution_count": 20,
      "outputs": [
        {
          "output_type": "stream",
          "name": "stdout",
          "text": [
            "e\n"
          ]
        }
      ]
    },
    {
      "cell_type": "code",
      "source": [
        "c = [1,2,3,4,5,'e','f']"
      ],
      "metadata": {
        "id": "baIQmkyDnZLV"
      },
      "execution_count": 21,
      "outputs": []
    },
    {
      "cell_type": "code",
      "source": [
        "def a8(c):\n",
        "    for i in c:\n",
        "        if type(i)==str:\n",
        "            ans = i\n",
        "    return ans"
      ],
      "metadata": {
        "id": "df5ndWUKnZI2"
      },
      "execution_count": 23,
      "outputs": []
    },
    {
      "cell_type": "code",
      "source": [
        "a8(c)"
      ],
      "metadata": {
        "colab": {
          "base_uri": "https://localhost:8080/",
          "height": 35
        },
        "id": "7_F81BmAoE9L",
        "outputId": "bb9a9d88-d83c-4cb8-e250-13a94904e847"
      },
      "execution_count": 24,
      "outputs": [
        {
          "output_type": "execute_result",
          "data": {
            "text/plain": [
              "'f'"
            ],
            "application/vnd.google.colaboratory.intrinsic+json": {
              "type": "string"
            }
          },
          "metadata": {},
          "execution_count": 24
        }
      ]
    },
    {
      "cell_type": "markdown",
      "source": [
        "2개 이상의 문자열을 찾기 위해 append 리스트안에 넣는 작업"
      ],
      "metadata": {
        "id": "hdYEhuRaoHDk"
      }
    },
    {
      "cell_type": "code",
      "source": [
        "sum_str = []\n",
        "for i in c:\n",
        "    if type(i)==str:\n",
        "        sum_str.append(i)\n",
        "    print(sum_str)"
      ],
      "metadata": {
        "colab": {
          "base_uri": "https://localhost:8080/"
        },
        "id": "cajEFfzmoE6_",
        "outputId": "62984d86-cd8f-4c39-bc0f-f1dd42c1b126"
      },
      "execution_count": 26,
      "outputs": [
        {
          "output_type": "stream",
          "name": "stdout",
          "text": [
            "[]\n",
            "[]\n",
            "[]\n",
            "[]\n",
            "[]\n",
            "['e']\n",
            "['e', 'f']\n"
          ]
        }
      ]
    },
    {
      "cell_type": "code",
      "source": [
        "sum_str"
      ],
      "metadata": {
        "colab": {
          "base_uri": "https://localhost:8080/"
        },
        "id": "tnCZuGRmoE4L",
        "outputId": "e5a862da-5275-4624-e922-3e94913f4f4a"
      },
      "execution_count": 27,
      "outputs": [
        {
          "output_type": "execute_result",
          "data": {
            "text/plain": [
              "['e', 'f']"
            ]
          },
          "metadata": {},
          "execution_count": 27
        }
      ]
    },
    {
      "cell_type": "markdown",
      "source": [
        "lambda\n",
        "\n",
        "-def 함수를 람다 표현식으로 바꿀 수 있음\n",
        "\n",
        "-함수를 간단하게 표현 가능"
      ],
      "metadata": {
        "id": "U6iqEVSAoNKf"
      }
    },
    {
      "cell_type": "code",
      "source": [
        "def a9(x):\n",
        "    return x * 100"
      ],
      "metadata": {
        "id": "DK0-53SaoE1k"
      },
      "execution_count": 28,
      "outputs": []
    },
    {
      "cell_type": "code",
      "source": [
        "a9(2)"
      ],
      "metadata": {
        "colab": {
          "base_uri": "https://localhost:8080/"
        },
        "id": "zHRaONwDoEzW",
        "outputId": "05235ce4-64c4-4eaf-d366-bc7963a58c56"
      },
      "execution_count": 29,
      "outputs": [
        {
          "output_type": "execute_result",
          "data": {
            "text/plain": [
              "200"
            ]
          },
          "metadata": {},
          "execution_count": 29
        }
      ]
    },
    {
      "cell_type": "code",
      "source": [
        "# lambda문의 return 값 표현\n",
        "lambda x: x * 100"
      ],
      "metadata": {
        "colab": {
          "base_uri": "https://localhost:8080/"
        },
        "id": "Oo81Rml_oTK4",
        "outputId": "76bca995-9f50-4e2f-a89d-ad4211435912"
      },
      "execution_count": 30,
      "outputs": [
        {
          "output_type": "execute_result",
          "data": {
            "text/plain": [
              "<function __main__.<lambda>(x)>"
            ]
          },
          "metadata": {},
          "execution_count": 30
        }
      ]
    },
    {
      "cell_type": "code",
      "source": [
        "lm = lambda x: x*100"
      ],
      "metadata": {
        "id": "cawpiwX_oTHv"
      },
      "execution_count": 31,
      "outputs": []
    },
    {
      "cell_type": "code",
      "source": [
        "lm(2)"
      ],
      "metadata": {
        "colab": {
          "base_uri": "https://localhost:8080/"
        },
        "id": "sGxDyS0JoTFk",
        "outputId": "f26c0ee0-d828-4c33-f690-27bc4edc1eaf"
      },
      "execution_count": 32,
      "outputs": [
        {
          "output_type": "execute_result",
          "data": {
            "text/plain": [
              "200"
            ]
          },
          "metadata": {},
          "execution_count": 32
        }
      ]
    },
    {
      "cell_type": "code",
      "source": [
        "# 람다 값을 소괄호로 감싸고 인자값을 넣으면 동일한 값이 나온다.\n",
        "(lambda x: x * 100)(2)"
      ],
      "metadata": {
        "colab": {
          "base_uri": "https://localhost:8080/"
        },
        "id": "sqWceU_JoTCe",
        "outputId": "718c2721-8645-4628-feda-01db88ffdcb9"
      },
      "execution_count": 33,
      "outputs": [
        {
          "output_type": "execute_result",
          "data": {
            "text/plain": [
              "200"
            ]
          },
          "metadata": {},
          "execution_count": 33
        }
      ]
    },
    {
      "cell_type": "code",
      "source": [
        "[(lambda x: x * 100)(2)]"
      ],
      "metadata": {
        "colab": {
          "base_uri": "https://localhost:8080/"
        },
        "id": "7eh2hMBzoTAH",
        "outputId": "69275d23-643a-4aa9-b41c-d28ceaa54f3e"
      },
      "execution_count": 34,
      "outputs": [
        {
          "output_type": "execute_result",
          "data": {
            "text/plain": [
              "[200]"
            ]
          },
          "metadata": {},
          "execution_count": 34
        }
      ]
    },
    {
      "cell_type": "code",
      "source": [
        "y = 5\n",
        "(lambda x: x+y * 100)(2)"
      ],
      "metadata": {
        "colab": {
          "base_uri": "https://localhost:8080/"
        },
        "id": "Ahz_TtN4oS9h",
        "outputId": "fcb2585a-b8b8-4081-bb15-9d1ca779d1d3"
      },
      "execution_count": 35,
      "outputs": [
        {
          "output_type": "execute_result",
          "data": {
            "text/plain": [
              "502"
            ]
          },
          "metadata": {},
          "execution_count": 35
        }
      ]
    },
    {
      "cell_type": "markdown",
      "source": [
        "map 함수\n",
        "\n",
        "-map(매개변수(함수),매개변수(반복 가능한 자료형))\n",
        "\n",
        "-map(적용시킬 함수, 적용할 값들)"
      ],
      "metadata": {
        "id": "xh-VmVbtoa1T"
      }
    },
    {
      "cell_type": "code",
      "source": [
        "a = [1.1,2.2,3.3,4.4]\n",
        "print(a)"
      ],
      "metadata": {
        "colab": {
          "base_uri": "https://localhost:8080/"
        },
        "id": "oAyVHKa2ohkJ",
        "outputId": "55c3a457-bbad-4ff5-8c26-9d11b8ee93eb"
      },
      "execution_count": 36,
      "outputs": [
        {
          "output_type": "stream",
          "name": "stdout",
          "text": [
            "[1.1, 2.2, 3.3, 4.4]\n"
          ]
        }
      ]
    },
    {
      "cell_type": "code",
      "source": [
        "for i in range(len(a)):\n",
        "    a[i] = int(a[i])\n",
        "print(a)"
      ],
      "metadata": {
        "colab": {
          "base_uri": "https://localhost:8080/"
        },
        "id": "m-da-dsdohf6",
        "outputId": "233d14ff-f128-48fb-f165-de43b0482baa"
      },
      "execution_count": 37,
      "outputs": [
        {
          "output_type": "stream",
          "name": "stdout",
          "text": [
            "[1, 2, 3, 4]\n"
          ]
        }
      ]
    },
    {
      "cell_type": "code",
      "source": [
        "a = [1.1,2.2,3.3,4.4]\n",
        "a = list(map(int,a))\n",
        "print(a)"
      ],
      "metadata": {
        "colab": {
          "base_uri": "https://localhost:8080/"
        },
        "id": "r3JJ3y6OohdF",
        "outputId": "75caabe7-468a-43aa-e18d-ade6ec2f1f67"
      },
      "execution_count": 38,
      "outputs": [
        {
          "output_type": "stream",
          "name": "stdout",
          "text": [
            "[1, 2, 3, 4]\n"
          ]
        }
      ]
    },
    {
      "cell_type": "code",
      "source": [
        "# 리스트와 map을 이용하여 여러 값을 만들 수 있음\n",
        "list(map(lambda x: x +100,[10,20,30]))"
      ],
      "metadata": {
        "colab": {
          "base_uri": "https://localhost:8080/"
        },
        "id": "iccvl26cohat",
        "outputId": "2aa42909-c17f-4670-d276-6bbd697a5df0"
      },
      "execution_count": 39,
      "outputs": [
        {
          "output_type": "execute_result",
          "data": {
            "text/plain": [
              "[110, 120, 130]"
            ]
          },
          "metadata": {},
          "execution_count": 39
        }
      ]
    },
    {
      "cell_type": "markdown",
      "source": [
        "짝수의 값을 float형태로 바꾸기 (람다 형태로)"
      ],
      "metadata": {
        "id": "jCGUP_2UombP"
      }
    },
    {
      "cell_type": "code",
      "source": [
        "a = [1,2,3,4,5,6]"
      ],
      "metadata": {
        "id": "L_y8bwnZoqeJ"
      },
      "execution_count": 42,
      "outputs": []
    },
    {
      "cell_type": "code",
      "source": [
        "list(map(lambda x: float(x) if x % 2 ==0 else x,a))"
      ],
      "metadata": {
        "colab": {
          "base_uri": "https://localhost:8080/"
        },
        "id": "Qq6b2lOaoqkt",
        "outputId": "700b1727-9d09-407a-c61f-bfd527329b1c"
      },
      "execution_count": 40,
      "outputs": [
        {
          "output_type": "execute_result",
          "data": {
            "text/plain": [
              "[1, 2.0, 3, 4.0]"
            ]
          },
          "metadata": {},
          "execution_count": 40
        }
      ]
    },
    {
      "cell_type": "code",
      "source": [
        "def float_x(x):\n",
        "    if x % 2 ==0:\n",
        "        return float(x)\n",
        "    else:\n",
        "        return x\n",
        "result = list(map(float_x,a))\n",
        "print(result)"
      ],
      "metadata": {
        "colab": {
          "base_uri": "https://localhost:8080/"
        },
        "id": "McZQUXxDoqh_",
        "outputId": "74273b3c-dad8-4e61-83a3-97014d737465"
      },
      "execution_count": 43,
      "outputs": [
        {
          "output_type": "stream",
          "name": "stdout",
          "text": [
            "[1, 2.0, 3, 4.0, 5, 6.0]\n"
          ]
        }
      ]
    },
    {
      "cell_type": "markdown",
      "source": [
        "-lambda 2개의 조건문 사용\n",
        "\n",
        "-lambda의 매개변수들 : 식1 if 조건식1 else 식2 if 조건식2 else 식3 등으로 확장\n",
        "\n",
        "-값이 3인 경우 문자열로 변환, 짝수의 값을 float형태로 변경, 나머지 값은 *100 형태로 출력하라 (람다 형태로)"
      ],
      "metadata": {
        "id": "QBj_NajxowV9"
      }
    },
    {
      "cell_type": "code",
      "source": [
        "list(map(lambda x: str(x) if x == 3 else float(x) if x % 2 ==0 else x*100,a))"
      ],
      "metadata": {
        "colab": {
          "base_uri": "https://localhost:8080/"
        },
        "id": "4KPMxWhxo2Z2",
        "outputId": "aac713f0-e9f3-4ff2-a6a7-99899b9dc81d"
      },
      "execution_count": 44,
      "outputs": [
        {
          "output_type": "execute_result",
          "data": {
            "text/plain": [
              "[100, 2.0, '3', 4.0, 500, 6.0]"
            ]
          },
          "metadata": {},
          "execution_count": 44
        }
      ]
    },
    {
      "cell_type": "code",
      "source": [
        "def abc(x):\n",
        "    if x == 3:\n",
        "        return str(x)\n",
        "    elif x % 2 ==0:\n",
        "        return float(x)\n",
        "    else:\n",
        "        return x * 100\n",
        "list(map(abc,a))"
      ],
      "metadata": {
        "colab": {
          "base_uri": "https://localhost:8080/"
        },
        "id": "E1kuWgDFo2W8",
        "outputId": "92de257a-6f1b-4153-9115-7bcc33ccb905"
      },
      "execution_count": 45,
      "outputs": [
        {
          "output_type": "execute_result",
          "data": {
            "text/plain": [
              "[100, 2.0, '3', 4.0, 500, 6.0]"
            ]
          },
          "metadata": {},
          "execution_count": 45
        }
      ]
    },
    {
      "cell_type": "code",
      "source": [
        "a = [1,2,3,4,5]\n",
        "b = [6,7,8,9,10]\n",
        "c = [0,0,0,0,0]"
      ],
      "metadata": {
        "id": "s8QNpN7To2UZ"
      },
      "execution_count": 46,
      "outputs": []
    },
    {
      "cell_type": "code",
      "source": [
        "# 매개변수가 2개 이상이면, 식의 변수도 2개 이상\n",
        "list(map(lambda x,y,z :(x+y)*z, a,b,c))"
      ],
      "metadata": {
        "colab": {
          "base_uri": "https://localhost:8080/"
        },
        "id": "57gxcIRyo2R9",
        "outputId": "5007f2fb-aa5a-4112-eeef-e33897cdb025"
      },
      "execution_count": 47,
      "outputs": [
        {
          "output_type": "execute_result",
          "data": {
            "text/plain": [
              "[0, 0, 0, 0, 0]"
            ]
          },
          "metadata": {},
          "execution_count": 47
        }
      ]
    },
    {
      "cell_type": "markdown",
      "source": [
        "데이터 프레임\n",
        "\n",
        "-2차원 리스트로 생각하면 편함\n",
        "\n",
        "-행렬의 개념\n",
        "\n",
        "-행은 인덱스(index), 열은 컬럼(column)이라고 지칭\n",
        "\n",
        "데이터 프레임을 불러오기 위해 많이 사용하는 라이브러리\n",
        "\n",
        "-pandas(가장 많이 사용) : 데이터프레임, 시리즈 구조 데이터를 가공, 전처리 하는 패키지\n",
        "\n",
        "-numpy(많이 사용) : 공학적인 수학 관련 패키지"
      ],
      "metadata": {
        "id": "1Rq8h4iBo-gm"
      }
    },
    {
      "cell_type": "code",
      "source": [
        "pip install pandas"
      ],
      "metadata": {
        "colab": {
          "base_uri": "https://localhost:8080/"
        },
        "id": "u8PQPQC4o1ss",
        "outputId": "6ab30a58-fcf7-47f9-83cc-74ba2036f940"
      },
      "execution_count": 48,
      "outputs": [
        {
          "output_type": "stream",
          "name": "stdout",
          "text": [
            "Requirement already satisfied: pandas in /usr/local/lib/python3.10/dist-packages (2.1.4)\n",
            "Requirement already satisfied: numpy<2,>=1.22.4 in /usr/local/lib/python3.10/dist-packages (from pandas) (1.26.4)\n",
            "Requirement already satisfied: python-dateutil>=2.8.2 in /usr/local/lib/python3.10/dist-packages (from pandas) (2.8.2)\n",
            "Requirement already satisfied: pytz>=2020.1 in /usr/local/lib/python3.10/dist-packages (from pandas) (2024.1)\n",
            "Requirement already satisfied: tzdata>=2022.1 in /usr/local/lib/python3.10/dist-packages (from pandas) (2024.1)\n",
            "Requirement already satisfied: six>=1.5 in /usr/local/lib/python3.10/dist-packages (from python-dateutil>=2.8.2->pandas) (1.16.0)\n"
          ]
        }
      ]
    },
    {
      "cell_type": "code",
      "source": [
        "pip install numpy"
      ],
      "metadata": {
        "colab": {
          "base_uri": "https://localhost:8080/"
        },
        "id": "uj4jV_zKohYP",
        "outputId": "6c8ecfca-0e68-4363-8ffe-71b502907ce7"
      },
      "execution_count": 49,
      "outputs": [
        {
          "output_type": "stream",
          "name": "stdout",
          "text": [
            "Requirement already satisfied: numpy in /usr/local/lib/python3.10/dist-packages (1.26.4)\n"
          ]
        }
      ]
    },
    {
      "cell_type": "markdown",
      "source": [],
      "metadata": {
        "id": "3y6mgAPPoayq"
      }
    },
    {
      "cell_type": "markdown",
      "source": [],
      "metadata": {
        "id": "FqHcoWxWoawE"
      }
    }
  ]
}