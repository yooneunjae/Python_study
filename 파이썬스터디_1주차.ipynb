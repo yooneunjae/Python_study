{
  "nbformat": 4,
  "nbformat_minor": 0,
  "metadata": {
    "colab": {
      "provenance": [],
      "authorship_tag": "ABX9TyOkk/vmczoQwlo3W+BlEWbv",
      "include_colab_link": true
    },
    "kernelspec": {
      "name": "python3",
      "display_name": "Python 3"
    },
    "language_info": {
      "name": "python"
    }
  },
  "cells": [
    {
      "cell_type": "markdown",
      "metadata": {
        "id": "view-in-github",
        "colab_type": "text"
      },
      "source": [
        "<a href=\"https://colab.research.google.com/github/yooneunjae/Python_study/blob/main/%ED%8C%8C%EC%9D%B4%EC%8D%AC%EC%8A%A4%ED%84%B0%EB%94%94_1%EC%A3%BC%EC%B0%A8.ipynb\" target=\"_parent\"><img src=\"https://colab.research.google.com/assets/colab-badge.svg\" alt=\"Open In Colab\"/></a>"
      ]
    },
    {
      "cell_type": "code",
      "execution_count": 1,
      "metadata": {
        "id": "I5e-5eqJcZZS"
      },
      "outputs": [],
      "source": [
        "# 주석\n",
        "# 정수형\n",
        "a = 2"
      ]
    },
    {
      "cell_type": "code",
      "source": [
        "print(a)\n",
        "print(type(a))"
      ],
      "metadata": {
        "colab": {
          "base_uri": "https://localhost:8080/"
        },
        "id": "kEiGtBhzcwY6",
        "outputId": "b810ef0a-923b-47cd-b29e-30f166316d5f"
      },
      "execution_count": 2,
      "outputs": [
        {
          "output_type": "stream",
          "name": "stdout",
          "text": [
            "2\n",
            "<class 'int'>\n"
          ]
        }
      ]
    },
    {
      "cell_type": "code",
      "source": [
        "# 실수형\n",
        "b = 2.5"
      ],
      "metadata": {
        "id": "QeICJOHyczJ2"
      },
      "execution_count": 3,
      "outputs": []
    },
    {
      "cell_type": "code",
      "source": [
        "print(b)\n",
        "print(type(b))"
      ],
      "metadata": {
        "colab": {
          "base_uri": "https://localhost:8080/"
        },
        "id": "1cEA7LIwc2P8",
        "outputId": "29ccf1cd-d356-4500-e20f-5b2575ac70ea"
      },
      "execution_count": 4,
      "outputs": [
        {
          "output_type": "stream",
          "name": "stdout",
          "text": [
            "2.5\n",
            "<class 'float'>\n"
          ]
        }
      ]
    },
    {
      "cell_type": "code",
      "source": [
        "# 문자형\n",
        "c = \"hello\"\n",
        "d = 'hello!'"
      ],
      "metadata": {
        "id": "LZowzpZXc3yI"
      },
      "execution_count": 5,
      "outputs": []
    },
    {
      "cell_type": "code",
      "source": [
        "print(c)\n",
        "print(d)\n",
        "print(type(c))\n",
        "print(type(d))"
      ],
      "metadata": {
        "colab": {
          "base_uri": "https://localhost:8080/"
        },
        "id": "6j7_-wZYc6Oi",
        "outputId": "e025470c-ee12-44d8-9231-ed8271c67140"
      },
      "execution_count": 6,
      "outputs": [
        {
          "output_type": "stream",
          "name": "stdout",
          "text": [
            "hello\n",
            "hello!\n",
            "<class 'str'>\n",
            "<class 'str'>\n"
          ]
        }
      ]
    },
    {
      "cell_type": "code",
      "source": [
        "# 논리형 (참 아니면 거짓)\n",
        "q1 = True"
      ],
      "metadata": {
        "id": "DUv1o92qc9B2"
      },
      "execution_count": 7,
      "outputs": []
    },
    {
      "cell_type": "code",
      "source": [
        "print(type(q1))"
      ],
      "metadata": {
        "colab": {
          "base_uri": "https://localhost:8080/"
        },
        "id": "DoPwlrpGc_iL",
        "outputId": "32402a6c-924c-45ac-9a37-1683aedb2a9f"
      },
      "execution_count": 8,
      "outputs": [
        {
          "output_type": "stream",
          "name": "stdout",
          "text": [
            "<class 'bool'>\n"
          ]
        }
      ]
    },
    {
      "cell_type": "code",
      "source": [
        "# 간단한 계산\n",
        "A = 10\n",
        "B = 5"
      ],
      "metadata": {
        "id": "U46AFrFudCbr"
      },
      "execution_count": 9,
      "outputs": []
    },
    {
      "cell_type": "code",
      "source": [
        "C = A+B\n",
        "D = B/A"
      ],
      "metadata": {
        "id": "71Opt1MKdE4m"
      },
      "execution_count": 10,
      "outputs": []
    },
    {
      "cell_type": "code",
      "source": [
        "print(C)\n",
        "print(D)"
      ],
      "metadata": {
        "colab": {
          "base_uri": "https://localhost:8080/"
        },
        "id": "T5fBiG-rdGj7",
        "outputId": "788deaa3-3c9e-4156-c824-a961dcd8474b"
      },
      "execution_count": 11,
      "outputs": [
        {
          "output_type": "stream",
          "name": "stdout",
          "text": [
            "15\n",
            "0.5\n"
          ]
        }
      ]
    },
    {
      "cell_type": "code",
      "source": [
        "# 제곱근\n",
        "\n",
        "import math # 라이브러리 불러오기"
      ],
      "metadata": {
        "id": "ZduwjD2DdK3j"
      },
      "execution_count": 13,
      "outputs": []
    },
    {
      "cell_type": "code",
      "source": [
        "math.sqrt(144) #sqrt = 제곱근"
      ],
      "metadata": {
        "colab": {
          "base_uri": "https://localhost:8080/"
        },
        "id": "2AIIAXWZdNvk",
        "outputId": "5bdcecf1-a1c6-4cb8-8d7a-450d620d3875"
      },
      "execution_count": 14,
      "outputs": [
        {
          "output_type": "execute_result",
          "data": {
            "text/plain": [
              "12.0"
            ]
          },
          "metadata": {},
          "execution_count": 14
        }
      ]
    },
    {
      "cell_type": "code",
      "source": [
        "math.sqrt(A)"
      ],
      "metadata": {
        "colab": {
          "base_uri": "https://localhost:8080/"
        },
        "id": "p4uJd-HjdP7z",
        "outputId": "3af95e7b-dd51-4467-bbda-ffe2a9e18d6d"
      },
      "execution_count": 15,
      "outputs": [
        {
          "output_type": "execute_result",
          "data": {
            "text/plain": [
              "3.1622776601683795"
            ]
          },
          "metadata": {},
          "execution_count": 15
        }
      ]
    },
    {
      "cell_type": "code",
      "source": [
        "round(math.sqrt(A)) # round = 반올림"
      ],
      "metadata": {
        "colab": {
          "base_uri": "https://localhost:8080/"
        },
        "id": "JH8vFSwidRu3",
        "outputId": "9b5078ae-eac2-4ec8-cb35-a0166c888dba"
      },
      "execution_count": 16,
      "outputs": [
        {
          "output_type": "execute_result",
          "data": {
            "text/plain": [
              "3"
            ]
          },
          "metadata": {},
          "execution_count": 16
        }
      ]
    },
    {
      "cell_type": "code",
      "source": [
        "# 문자열 병합\n",
        "greeting = \"Hello\"\n",
        "name = \"X\""
      ],
      "metadata": {
        "id": "p6RAf9RjdTsi"
      },
      "execution_count": 17,
      "outputs": []
    },
    {
      "cell_type": "code",
      "source": [
        "message = greeting + name"
      ],
      "metadata": {
        "id": "rOa-15oSdWeZ"
      },
      "execution_count": 18,
      "outputs": []
    },
    {
      "cell_type": "code",
      "source": [
        "print(message)\n",
        "message = greeting + \"\" + name"
      ],
      "metadata": {
        "colab": {
          "base_uri": "https://localhost:8080/"
        },
        "id": "LQMlxT4SdYD5",
        "outputId": "35117f61-44cc-445c-95e6-338dd830ed15"
      },
      "execution_count": 19,
      "outputs": [
        {
          "output_type": "stream",
          "name": "stdout",
          "text": [
            "HelloX\n"
          ]
        }
      ]
    },
    {
      "cell_type": "code",
      "source": [
        "print(message)\n",
        "message = greeting + \" \" + name"
      ],
      "metadata": {
        "colab": {
          "base_uri": "https://localhost:8080/"
        },
        "id": "HaVsaOUTdZxz",
        "outputId": "0a475689-27df-48cc-816a-5cea44dc9007"
      },
      "execution_count": 20,
      "outputs": [
        {
          "output_type": "stream",
          "name": "stdout",
          "text": [
            "HelloX\n"
          ]
        }
      ]
    },
    {
      "cell_type": "code",
      "source": [
        "# boolean\n",
        "print(4 < 5)"
      ],
      "metadata": {
        "colab": {
          "base_uri": "https://localhost:8080/"
        },
        "id": "D5z78tRhdbOZ",
        "outputId": "d1544d68-9fd3-470e-ee30-a0b89064cfb6"
      },
      "execution_count": 21,
      "outputs": [
        {
          "output_type": "stream",
          "name": "stdout",
          "text": [
            "True\n"
          ]
        }
      ]
    },
    {
      "cell_type": "code",
      "source": [
        "print(10 > 100)"
      ],
      "metadata": {
        "colab": {
          "base_uri": "https://localhost:8080/"
        },
        "id": "C9rNSm1CdeQt",
        "outputId": "d255cb7c-100a-478e-b617-883feb37c16b"
      },
      "execution_count": 22,
      "outputs": [
        {
          "output_type": "stream",
          "name": "stdout",
          "text": [
            "False\n"
          ]
        }
      ]
    },
    {
      "cell_type": "code",
      "source": [
        "# ==\n",
        "# !=\n",
        "# <\n",
        "# >\n",
        "# <=\n",
        "# >=\n",
        "# and\n",
        "# or\n",
        "# not"
      ],
      "metadata": {
        "id": "b0l2NGFUdeOI"
      },
      "execution_count": 23,
      "outputs": []
    },
    {
      "cell_type": "code",
      "source": [
        "result = 4 < 5"
      ],
      "metadata": {
        "id": "YhUKIK3tdeLt"
      },
      "execution_count": 24,
      "outputs": []
    },
    {
      "cell_type": "code",
      "source": [
        "print(result)\n",
        "print(type(result))"
      ],
      "metadata": {
        "colab": {
          "base_uri": "https://localhost:8080/"
        },
        "id": "Vpzw6NwwdeJY",
        "outputId": "cf8ef446-dab4-47b0-b119-da9bd69d45d1"
      },
      "execution_count": 25,
      "outputs": [
        {
          "output_type": "stream",
          "name": "stdout",
          "text": [
            "True\n",
            "<class 'bool'>\n"
          ]
        }
      ]
    },
    {
      "cell_type": "code",
      "source": [
        "result2 = not (5 > 1)"
      ],
      "metadata": {
        "id": "xe9AVI4QdeGw"
      },
      "execution_count": 26,
      "outputs": []
    },
    {
      "cell_type": "code",
      "source": [
        "print(result2)"
      ],
      "metadata": {
        "colab": {
          "base_uri": "https://localhost:8080/"
        },
        "id": "WXc7q0c6deD6",
        "outputId": "3523cc9b-3941-42e4-d46b-6242c44bfb8c"
      },
      "execution_count": 27,
      "outputs": [
        {
          "output_type": "stream",
          "name": "stdout",
          "text": [
            "False\n"
          ]
        }
      ]
    },
    {
      "cell_type": "code",
      "source": [
        "print(result and result2)"
      ],
      "metadata": {
        "colab": {
          "base_uri": "https://localhost:8080/"
        },
        "id": "zUCdLtz1deBH",
        "outputId": "2e46a39c-ce38-4601-a3ac-c9670e4b73d9"
      },
      "execution_count": 28,
      "outputs": [
        {
          "output_type": "stream",
          "name": "stdout",
          "text": [
            "False\n"
          ]
        }
      ]
    },
    {
      "cell_type": "code",
      "source": [
        "print(result or result2)"
      ],
      "metadata": {
        "colab": {
          "base_uri": "https://localhost:8080/"
        },
        "id": "maDLpBRDdd5n",
        "outputId": "862dc10e-49ef-4727-ca5d-613c0373c247"
      },
      "execution_count": 29,
      "outputs": [
        {
          "output_type": "stream",
          "name": "stdout",
          "text": [
            "True\n"
          ]
        }
      ]
    },
    {
      "cell_type": "code",
      "source": [],
      "metadata": {
        "id": "wsuyIAEFduIl"
      },
      "execution_count": null,
      "outputs": []
    },
    {
      "cell_type": "markdown",
      "source": [
        "a=4 b=5\n",
        "해당 출력을 표시하는 코드작성"
      ],
      "metadata": {
        "id": "ji2Iwrsjdw_C"
      }
    },
    {
      "cell_type": "code",
      "source": [
        "a = 4\n",
        "b = 5\n",
        "\n",
        "print(\"a =\", a, \"b =\", b)\n"
      ],
      "metadata": {
        "colab": {
          "base_uri": "https://localhost:8080/"
        },
        "id": "zVbTuniXd3LK",
        "outputId": "f62ea646-801f-453b-aa80-3dfbcb4be4fb"
      },
      "execution_count": 30,
      "outputs": [
        {
          "output_type": "stream",
          "name": "stdout",
          "text": [
            "a = 4 b = 5\n"
          ]
        }
      ]
    },
    {
      "cell_type": "code",
      "source": [
        "a = 4\n",
        "b = 5\n",
        "\n",
        "print(\"a =\", a, end=\" \")\n",
        "print(\"b =\", b)"
      ],
      "metadata": {
        "colab": {
          "base_uri": "https://localhost:8080/"
        },
        "id": "Jw0I0OqBeYKF",
        "outputId": "e4acf7a1-0233-4a46-afbe-e01bf2975628"
      },
      "execution_count": 31,
      "outputs": [
        {
          "output_type": "stream",
          "name": "stdout",
          "text": [
            "a = 4 b = 5\n"
          ]
        }
      ]
    },
    {
      "cell_type": "markdown",
      "source": [
        "[입력]\n",
        "\n",
        "print(str_1)\n",
        "\n",
        "print(int_2 + 10)\n",
        "\n",
        "print(str_3 + \"10\")\n",
        "\n",
        "[출력]\n",
        "\n",
        "Summer\n",
        "\n",
        "13\n",
        "\n",
        "310\n",
        "\n",
        "입력을 코드를 그래도 사용하여 해당 출력을 표시하는 코드를 작성\n"
      ],
      "metadata": {
        "id": "94YFrlh3eeTz"
      }
    },
    {
      "cell_type": "code",
      "source": [
        "str_1 = \"Summer\"\n",
        "int_2 = 3\n",
        "str_3 = \"3\"\n",
        "\n",
        "print(str_1)\n",
        "print(int_2 + 10)\n",
        "print(str_3 + \"10\")"
      ],
      "metadata": {
        "colab": {
          "base_uri": "https://localhost:8080/"
        },
        "id": "gAeKS7WNeinl",
        "outputId": "339cbb76-5249-494d-b69d-33b8ae8ca8cd"
      },
      "execution_count": 32,
      "outputs": [
        {
          "output_type": "stream",
          "name": "stdout",
          "text": [
            "Summer\n",
            "13\n",
            "310\n"
          ]
        }
      ]
    }
  ]
}