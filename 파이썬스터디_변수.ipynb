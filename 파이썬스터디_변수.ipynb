{
  "nbformat": 4,
  "nbformat_minor": 0,
  "metadata": {
    "colab": {
      "provenance": [],
      "authorship_tag": "ABX9TyONWXBx+OtYvw/etxH54D+h",
      "include_colab_link": true
    },
    "kernelspec": {
      "name": "python3",
      "display_name": "Python 3"
    },
    "language_info": {
      "name": "python"
    }
  },
  "cells": [
    {
      "cell_type": "markdown",
      "metadata": {
        "id": "view-in-github",
        "colab_type": "text"
      },
      "source": [
        "<a href=\"https://colab.research.google.com/github/yooneunjae/Python_study/blob/main/%ED%8C%8C%EC%9D%B4%EC%8D%AC%EC%8A%A4%ED%84%B0%EB%94%94_%EB%B3%80%EC%88%98.ipynb\" target=\"_parent\"><img src=\"https://colab.research.google.com/assets/colab-badge.svg\" alt=\"Open In Colab\"/></a>"
      ]
    },
    {
      "cell_type": "markdown",
      "source": [
        "## 변수란 무엇인가?\n",
        "- 변수란? -> 내가 원하는 데이터를 담아 두는 것 (주머니의 개념)\n",
        "    - 변수는 이름이 있다.\n",
        "    - 변수는 여러가지를 만들 수 있다.\n",
        "    - 변수를 만들 수 있는 규칙이 있다.\n",
        "- 변수 이름 규칙\n",
        "    - 영문과 숫자 사용가능\n",
        "    - 대소문자 구분\n",
        "    - 문자부터 시작, 숫자부터는 불가능\n",
        "    - _ 밑줄 문자 사용 가능\n",
        "    - 특수문자 사용할 수 없음\n",
        "    - Python 문법 약속어 키워드는 사용 불가능 (if, for 같은 문법 약속어 등)"
      ],
      "metadata": {
        "id": "GmS2uYb1gyyV"
      }
    },
    {
      "cell_type": "markdown",
      "source": [
        "# 변수 정의\n",
        "abc123 = 100\n",
        "# abc123 이라는 곳에 100이라는 숫자 넣기\n",
        "# abc123 변수에 100이라는 값을 넣는다.\n",
        "\n",
        "# 파이썬 문법 = 는 변수를 대입한다는 뜻\n",
        "# 같다는 == 두 개를 사용"
      ],
      "metadata": {
        "id": "P6jgnYaTg4Yy"
      }
    },
    {
      "cell_type": "code",
      "source": [
        "abc123=100\n",
        "print(abc123)"
      ],
      "metadata": {
        "colab": {
          "base_uri": "https://localhost:8080/"
        },
        "id": "hbkSNGCig5Ps",
        "outputId": "a6603ec1-1331-463e-ffc8-3bdf604fa76a"
      },
      "execution_count": 9,
      "outputs": [
        {
          "output_type": "stream",
          "name": "stdout",
          "text": [
            "100\n"
          ]
        }
      ]
    },
    {
      "cell_type": "code",
      "source": [
        "print('abc123')"
      ],
      "metadata": {
        "colab": {
          "base_uri": "https://localhost:8080/"
        },
        "id": "jBUyZFxlhGjf",
        "outputId": "53144121-ca45-454a-afdd-5a8091c5af81"
      },
      "execution_count": 7,
      "outputs": [
        {
          "output_type": "stream",
          "name": "stdout",
          "text": [
            "abc123\n"
          ]
        }
      ]
    },
    {
      "cell_type": "code",
      "source": [
        "print('abc123') # 문자열을 출력\n",
        "print(abc123) # 변수 abc123을 출력"
      ],
      "metadata": {
        "colab": {
          "base_uri": "https://localhost:8080/"
        },
        "id": "DL3h2bgxhJ37",
        "outputId": "d06c19c2-a5e6-4c53-81f4-279caf6006d9"
      },
      "execution_count": 10,
      "outputs": [
        {
          "output_type": "stream",
          "name": "stdout",
          "text": [
            "abc123\n",
            "100\n"
          ]
        }
      ]
    },
    {
      "cell_type": "code",
      "source": [
        "new_data = 1000+3000"
      ],
      "metadata": {
        "id": "UFPCuXgihZWq"
      },
      "execution_count": 11,
      "outputs": []
    },
    {
      "cell_type": "code",
      "source": [
        "print(new_data)"
      ],
      "metadata": {
        "colab": {
          "base_uri": "https://localhost:8080/"
        },
        "id": "m3DpYcyghZUi",
        "outputId": "e5ed64f1-48c2-48c2-cd4b-69dd62e36f5c"
      },
      "execution_count": 12,
      "outputs": [
        {
          "output_type": "stream",
          "name": "stdout",
          "text": [
            "4000\n"
          ]
        }
      ]
    },
    {
      "cell_type": "code",
      "source": [
        "1 == 1\n"
      ],
      "metadata": {
        "colab": {
          "base_uri": "https://localhost:8080/"
        },
        "id": "sNzjc6A8hZSO",
        "outputId": "4ba0f7e5-71bc-400f-a110-a22dba092b9b"
      },
      "execution_count": 13,
      "outputs": [
        {
          "output_type": "execute_result",
          "data": {
            "text/plain": [
              "True"
            ]
          },
          "metadata": {},
          "execution_count": 13
        }
      ]
    },
    {
      "cell_type": "code",
      "source": [
        "# 변수를 여러개 사용해도 대응해서 들어갈 수 있음\n",
        "a,b,c = 10,20,30"
      ],
      "metadata": {
        "id": "pbSMeq5xhZP4"
      },
      "execution_count": 14,
      "outputs": []
    },
    {
      "cell_type": "code",
      "source": [
        "print(a)\n",
        "print(b)\n",
        "print(c)"
      ],
      "metadata": {
        "colab": {
          "base_uri": "https://localhost:8080/"
        },
        "id": "d3cXr-AKhZNa",
        "outputId": "ebbf3ec9-1bdb-4790-eb80-47add3b42764"
      },
      "execution_count": 15,
      "outputs": [
        {
          "output_type": "stream",
          "name": "stdout",
          "text": [
            "10\n",
            "20\n",
            "30\n"
          ]
        }
      ]
    },
    {
      "cell_type": "code",
      "source": [
        "# 변수와 값의 개수가 동일해야 함\n",
        "a,b = 10,20,30"
      ],
      "metadata": {
        "colab": {
          "base_uri": "https://localhost:8080/",
          "height": 159
        },
        "id": "_8T8m_EehZLE",
        "outputId": "0b0147c2-9de2-4008-bf52-fa5083426857"
      },
      "execution_count": 16,
      "outputs": [
        {
          "output_type": "error",
          "ename": "ValueError",
          "evalue": "too many values to unpack (expected 2)",
          "traceback": [
            "\u001b[0;31m---------------------------------------------------------------------------\u001b[0m",
            "\u001b[0;31mValueError\u001b[0m                                Traceback (most recent call last)",
            "\u001b[0;32m<ipython-input-16-5a4e10fdeb0a>\u001b[0m in \u001b[0;36m<cell line: 2>\u001b[0;34m()\u001b[0m\n\u001b[1;32m      1\u001b[0m \u001b[0;31m# 변수와 값의 개수가 동일해야 함\u001b[0m\u001b[0;34m\u001b[0m\u001b[0;34m\u001b[0m\u001b[0m\n\u001b[0;32m----> 2\u001b[0;31m \u001b[0ma\u001b[0m\u001b[0;34m,\u001b[0m\u001b[0mb\u001b[0m \u001b[0;34m=\u001b[0m \u001b[0;36m10\u001b[0m\u001b[0;34m,\u001b[0m\u001b[0;36m20\u001b[0m\u001b[0;34m,\u001b[0m\u001b[0;36m30\u001b[0m\u001b[0;34m\u001b[0m\u001b[0;34m\u001b[0m\u001b[0m\n\u001b[0m",
            "\u001b[0;31mValueError\u001b[0m: too many values to unpack (expected 2)"
          ]
        }
      ]
    },
    {
      "cell_type": "code",
      "source": [
        "d = c = b = a = 1000"
      ],
      "metadata": {
        "id": "MKjerZi4hZEm"
      },
      "execution_count": 17,
      "outputs": []
    },
    {
      "cell_type": "code",
      "source": [
        "print(a)\n",
        "print(b)\n",
        "print(c)\n",
        "print(d)"
      ],
      "metadata": {
        "colab": {
          "base_uri": "https://localhost:8080/"
        },
        "id": "UEPRYqXChZBr",
        "outputId": "f1c2f0be-b6e1-43c9-aae6-0468b7f346a1"
      },
      "execution_count": 18,
      "outputs": [
        {
          "output_type": "stream",
          "name": "stdout",
          "text": [
            "1000\n",
            "1000\n",
            "1000\n",
            "1000\n"
          ]
        }
      ]
    },
    {
      "cell_type": "code",
      "source": [
        "# 변수안에 변수 넣기 가능\n",
        "bc = 100"
      ],
      "metadata": {
        "id": "N77BwrmEhjp-"
      },
      "execution_count": 19,
      "outputs": []
    },
    {
      "cell_type": "code",
      "source": [
        "ab = bc"
      ],
      "metadata": {
        "id": "XlpbJtnthjnb"
      },
      "execution_count": 20,
      "outputs": []
    },
    {
      "cell_type": "code",
      "source": [
        "print(ab)\n",
        "print(bc)"
      ],
      "metadata": {
        "colab": {
          "base_uri": "https://localhost:8080/"
        },
        "id": "ziKyC9sXhjkV",
        "outputId": "44aebb8f-fbb6-4c81-a26f-79a5e7a7978b"
      },
      "execution_count": 21,
      "outputs": [
        {
          "output_type": "stream",
          "name": "stdout",
          "text": [
            "100\n",
            "100\n"
          ]
        }
      ]
    },
    {
      "cell_type": "code",
      "source": [
        "# 변수끼리 값을 더할 수 있음\n",
        "print(bc + ab)"
      ],
      "metadata": {
        "colab": {
          "base_uri": "https://localhost:8080/"
        },
        "id": "3ZtLpcrvhjfm",
        "outputId": "161e6b5d-a775-4797-98f8-faabd7cb8a1e"
      },
      "execution_count": 22,
      "outputs": [
        {
          "output_type": "stream",
          "name": "stdout",
          "text": [
            "200\n"
          ]
        }
      ]
    },
    {
      "cell_type": "markdown",
      "source": [
        "input() 함수는 사용자에게 값을 받아서 출력할 수 있는 함수\n",
        "모든 값을 문자열로 받음"
      ],
      "metadata": {
        "id": "CtVReP80hpiO"
      }
    },
    {
      "cell_type": "code",
      "source": [
        "x = input()"
      ],
      "metadata": {
        "colab": {
          "base_uri": "https://localhost:8080/"
        },
        "id": "nba3fUL9j85P",
        "outputId": "6fdc06c8-73e2-460e-c9fc-bcc182e7c328"
      },
      "execution_count": 32,
      "outputs": [
        {
          "name": "stdout",
          "output_type": "stream",
          "text": [
            "5\n"
          ]
        }
      ]
    },
    {
      "cell_type": "code",
      "source": [
        "y = input()"
      ],
      "metadata": {
        "colab": {
          "base_uri": "https://localhost:8080/"
        },
        "id": "GB6Noxr8j_nB",
        "outputId": "941b6e10-620d-4065-e3b3-99ce5df3b80a"
      },
      "execution_count": 33,
      "outputs": [
        {
          "name": "stdout",
          "output_type": "stream",
          "text": [
            "10\n"
          ]
        }
      ]
    },
    {
      "cell_type": "code",
      "source": [
        "print(x+y)\n",
        "# input값은 문자열로 받음"
      ],
      "metadata": {
        "colab": {
          "base_uri": "https://localhost:8080/"
        },
        "id": "T6lhXVaHkByt",
        "outputId": "f8310069-ca54-405b-a63b-951ba4c8b373"
      },
      "execution_count": 34,
      "outputs": [
        {
          "output_type": "stream",
          "name": "stdout",
          "text": [
            "510\n"
          ]
        }
      ]
    },
    {
      "cell_type": "markdown",
      "source": [
        "input() 함수의 기능\n",
        "-input().split() 나눠주는 개념, 값을 나눠서 저장"
      ],
      "metadata": {
        "id": "nazgFKGTjwIW"
      }
    },
    {
      "cell_type": "code",
      "source": [
        "x,y = input().split()\n",
        "# 입력할 때 띄어쓰기를 이용하여 x와 y를 설정"
      ],
      "metadata": {
        "colab": {
          "base_uri": "https://localhost:8080/"
        },
        "id": "RF-Kt_jEhzQV",
        "outputId": "b58e0e06-8466-4e4d-913d-6ea2ccc04244"
      },
      "execution_count": 31,
      "outputs": [
        {
          "name": "stdout",
          "output_type": "stream",
          "text": [
            "1 20\n"
          ]
        }
      ]
    },
    {
      "cell_type": "code",
      "source": [
        "x,y = input(\"두 개의 값을 입력하시오! (띄어쓰기로구분)\").split()"
      ],
      "metadata": {
        "colab": {
          "base_uri": "https://localhost:8080/"
        },
        "id": "MvSM3iC4hzN-",
        "outputId": "0d377302-69a0-4e97-cff0-89d984cff224"
      },
      "execution_count": 36,
      "outputs": [
        {
          "name": "stdout",
          "output_type": "stream",
          "text": [
            "두 개의 값을 입력하시오! (띄어쓰기로구분)1 20\n"
          ]
        }
      ]
    },
    {
      "cell_type": "code",
      "source": [
        "print(x)\n",
        "print(y)"
      ],
      "metadata": {
        "colab": {
          "base_uri": "https://localhost:8080/"
        },
        "id": "vLHx7QNPhzLA",
        "outputId": "b2004b96-6134-4096-992e-14fc95002721"
      },
      "execution_count": 37,
      "outputs": [
        {
          "output_type": "stream",
          "name": "stdout",
          "text": [
            "1\n",
            "20\n"
          ]
        }
      ]
    },
    {
      "cell_type": "markdown",
      "source": [
        "출력문 이해\n",
        "-print()문 안에서도 다양한 기능이 있음\n",
        ">sep-> 구분자라는 뜻\n",
        ">값과 값 사이에 공백이나 문자를 넣고 싶을 때 사용할 수 있는 함수\n",
        ">print(값, 값2, sep = '문자 또는 문자열 구분자')"
      ],
      "metadata": {
        "id": "QZI1QMbTkMaw"
      }
    },
    {
      "cell_type": "code",
      "source": [
        "# ,로 구분해서 값을 나누기\n",
        "print(1,2,3,sep=',')"
      ],
      "metadata": {
        "colab": {
          "base_uri": "https://localhost:8080/"
        },
        "id": "usFJB48QhzH3",
        "outputId": "21f1772a-dc2d-4518-dfef-21865ffa9850"
      },
      "execution_count": 38,
      "outputs": [
        {
          "output_type": "stream",
          "name": "stdout",
          "text": [
            "1,2,3\n"
          ]
        }
      ]
    },
    {
      "cell_type": "code",
      "source": [
        "# 공백도 하나의 문자로 생각하고 표현\n",
        "print(1,2,3,sep=', ')"
      ],
      "metadata": {
        "colab": {
          "base_uri": "https://localhost:8080/"
        },
        "id": "q2pS0HKPhzFI",
        "outputId": "df0cd44b-cf27-4900-b55b-4303c2b53bc2"
      },
      "execution_count": 39,
      "outputs": [
        {
          "output_type": "stream",
          "name": "stdout",
          "text": [
            "1, 2, 3\n"
          ]
        }
      ]
    },
    {
      "cell_type": "code",
      "source": [
        "# 공백없이 출력\n",
        "print(1,2,3,sep='')"
      ],
      "metadata": {
        "colab": {
          "base_uri": "https://localhost:8080/"
        },
        "id": "kkzo5HeJkmPB",
        "outputId": "ee2b7704-6122-4afe-a221-8208e8f6ad74"
      },
      "execution_count": 40,
      "outputs": [
        {
          "output_type": "stream",
          "name": "stdout",
          "text": [
            "123\n"
          ]
        }
      ]
    },
    {
      "cell_type": "code",
      "source": [
        "# 1\n",
        "# 2\n",
        "# 3 과 같이 출력\n",
        "print(1,2,3,sep='\\n') # 줄바꿈 문자 사용"
      ],
      "metadata": {
        "colab": {
          "base_uri": "https://localhost:8080/"
        },
        "id": "Z6Y9Rh7IkmKs",
        "outputId": "b6b5ff97-d6de-4a33-e37e-38aa86474486"
      },
      "execution_count": 41,
      "outputs": [
        {
          "output_type": "stream",
          "name": "stdout",
          "text": [
            "1\n",
            "2\n",
            "3\n"
          ]
        }
      ]
    },
    {
      "cell_type": "code",
      "source": [
        "print('1\\n2\\n3')"
      ],
      "metadata": {
        "colab": {
          "base_uri": "https://localhost:8080/"
        },
        "id": "gRb7d8PSkmHo",
        "outputId": "b4967436-8297-4b8d-e323-6dd4db355ea5"
      },
      "execution_count": 42,
      "outputs": [
        {
          "output_type": "stream",
          "name": "stdout",
          "text": [
            "1\n",
            "2\n",
            "3\n"
          ]
        }
      ]
    },
    {
      "cell_type": "markdown",
      "source": [
        "위의 출력문 모두 값이 아닌 변수가 들어가도 동일하게 출력이 나옴"
      ],
      "metadata": {
        "id": "Blv0d7dCkq5S"
      }
    },
    {
      "cell_type": "markdown",
      "source": [
        "불리언 값\n",
        "-참 또는 거짓(True, False)\n",
        "-기존의 int, str 외의 boolean 값이 따로 존재"
      ],
      "metadata": {
        "id": "BTwzw8YYkuId"
      }
    },
    {
      "cell_type": "code",
      "source": [
        "print(3>1)\n",
        "print(1>3)\n",
        "print(1==1)\n",
        "print(1!=1)"
      ],
      "metadata": {
        "colab": {
          "base_uri": "https://localhost:8080/"
        },
        "id": "UtBOo7YtkmEe",
        "outputId": "6a96e1c4-8360-4752-d479-0fdde35588e2"
      },
      "execution_count": 43,
      "outputs": [
        {
          "output_type": "stream",
          "name": "stdout",
          "text": [
            "True\n",
            "False\n",
            "True\n",
            "False\n"
          ]
        }
      ]
    },
    {
      "cell_type": "code",
      "source": [],
      "metadata": {
        "id": "z8N5PGeskmAQ"
      },
      "execution_count": null,
      "outputs": []
    },
    {
      "cell_type": "markdown",
      "source": [],
      "metadata": {
        "id": "zcyCiSW7g0jy"
      }
    },
    {
      "cell_type": "markdown",
      "source": [],
      "metadata": {
        "id": "tn5GLkrLgv7_"
      }
    },
    {
      "cell_type": "markdown",
      "source": [],
      "metadata": {
        "id": "6ermgSZ-gtKv"
      }
    }
  ]
}